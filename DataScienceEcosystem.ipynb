{
 "cells": [
  {
   "cell_type": "markdown",
   "id": "1e193068-d93c-4506-a698-e62acc9f0d11",
   "metadata": {
    "tags": []
   },
   "source": [
    "# Data Science Tools and Ecosystem"
   ]
  },
  {
   "cell_type": "markdown",
   "id": "d9f370dd-ecb3-4690-b2a5-0cd34bcfc39d",
   "metadata": {},
   "source": [
    "In this notebook, Data Science Tools and Ecosystem are summarized."
   ]
  },
  {
   "cell_type": "markdown",
   "id": "46de6255-8f10-4e19-a971-641dbddefe21",
   "metadata": {},
   "source": [
    "**Objectives:**\n",
    "* Python\n",
    "* R\n",
    "* Julia\n",
    "* SQL\n",
    "* MATLAB"
   ]
  },
  {
   "cell_type": "markdown",
   "id": "406f5a53-10bc-4835-a7c9-29a8c9684da8",
   "metadata": {},
   "source": [
    "Some of the popular languages that Data Scientists use are:  \n",
    "1-Python  \n",
    "2-Julia  \n",
    "3-SQL  \n",
    "4-MATLAB"
   ]
  },
  {
   "cell_type": "markdown",
   "id": "d9109ed1-29c9-4897-ba9d-8b022e1148bc",
   "metadata": {},
   "source": [
    "Some of the commonly used libraries used by Data Scientists include:  \n",
    "1-Pandas  \n",
    "2-Matplotlib  \n",
    "3-NumPy  \n",
    "4-SciPy  "
   ]
  },
  {
   "cell_type": "markdown",
   "id": "f677d0e5-ee20-41a2-96da-6a601281bcec",
   "metadata": {},
   "source": [
    "| Data Science Tools |\n",
    "| ----------- |\n",
    "| RStudio |\n",
    "| Apache Spark |\n",
    "| TensorFlow |"
   ]
  },
  {
   "cell_type": "markdown",
   "id": "574a877d-bbba-4899-a00f-fe7d0d94758d",
   "metadata": {},
   "source": [
    "## Below are a few examples of evaluating arithmetic expressions in Python"
   ]
  },
  {
   "cell_type": "code",
   "execution_count": 1,
   "id": "c2f2d341-dd8d-437d-aeb9-46cfe5bf6bac",
   "metadata": {},
   "outputs": [
    {
     "data": {
      "text/plain": [
       "17"
      ]
     },
     "execution_count": 1,
     "metadata": {},
     "output_type": "execute_result"
    }
   ],
   "source": [
    "# This a simple arithmetic expression to mutiply then add integers\n",
    "(3*4)+5"
   ]
  },
  {
   "cell_type": "code",
   "execution_count": 2,
   "id": "7dc0c45d-e002-42a6-8018-79924a844400",
   "metadata": {},
   "outputs": [
    {
     "data": {
      "text/plain": [
       "3.3333333333333335"
      ]
     },
     "execution_count": 2,
     "metadata": {},
     "output_type": "execute_result"
    }
   ],
   "source": [
    "# This will convert 200 minutes to hours by diving by 60\n",
    "200/60"
   ]
  },
  {
   "cell_type": "markdown",
   "id": "68e182d3-37d6-4a86-978c-76ba8f303c82",
   "metadata": {},
   "source": [
    "## Author  \n",
    "Abdulkadir Yavuz"
   ]
  },
  {
   "cell_type": "code",
   "execution_count": null,
   "id": "93b22c2d-ddbf-4dc0-ac08-a0c6ffbd99f7",
   "metadata": {},
   "outputs": [],
   "source": []
  }
 ],
 "metadata": {
  "kernelspec": {
   "display_name": "Python",
   "language": "python",
   "name": "conda-env-python-py"
  },
  "language_info": {
   "codemirror_mode": {
    "name": "ipython",
    "version": 3
   },
   "file_extension": ".py",
   "mimetype": "text/x-python",
   "name": "python",
   "nbconvert_exporter": "python",
   "pygments_lexer": "ipython3",
   "version": "3.7.12"
  },
  "toc-autonumbering": true,
  "toc-showcode": true,
  "toc-showmarkdowntxt": true,
  "toc-showtags": false
 },
 "nbformat": 4,
 "nbformat_minor": 5
}
